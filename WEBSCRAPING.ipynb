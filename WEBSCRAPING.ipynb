{
  "cells": [
    {
      "cell_type": "markdown",
      "metadata": {
        "id": "view-in-github",
        "colab_type": "text"
      },
      "source": [
        "<a href=\"https://colab.research.google.com/github/naveens138/DATA-HANDLING-AND-VISUALIZATION/blob/main/WEBSCRAPING.ipynb\" target=\"_parent\"><img src=\"https://colab.research.google.com/assets/colab-badge.svg\" alt=\"Open In Colab\"/></a>"
      ]
    },
    {
      "cell_type": "code",
      "source": [
        "import requests\n",
        "from bs4 import BeautifulSoup\n",
        "\n",
        "def getdata(url):\n",
        "    r = requests.get(url)\n",
        "    return r.text\n",
        "\n",
        "htmldata = getdata(\"https://www.iplt20.com/teams/royal-challengers-bangalore\")\n",
        "soup = BeautifulSoup(htmldata, 'html.parser')\n",
        "for item in soup.find_all('img'):\n",
        "    print(item['src'])"
      ],
      "metadata": {
        "colab": {
          "base_uri": "https://localhost:8080/"
        },
        "id": "67_CB9Y9W8fk",
        "outputId": "9fb31d39-aea0-4bfb-e813-540c7986ac68"
      },
      "execution_count": null,
      "outputs": [
        {
          "output_type": "stream",
          "name": "stdout",
          "text": [
            "https://www.iplt20.com/assets/images/BCCI_logo.png\n",
            "https://www.iplt20.com/assets/images/womens-premier-league-logo.svg\n",
            "https://www.iplt20.com/assets/images/new-twitter-icon.svg\n",
            "https://www.iplt20.com/assets/images/new-instagram-icon.svg\n",
            "https://www.iplt20.com/assets/images/new-facebook-icon.svg\n",
            "https://www.iplt20.com/assets/images/ipl-logo-new-old.png\n",
            "https://www.iplt20.com/assets/images/new-search-icon.svg\n",
            "https://www.iplt20.com/assets/images/fan-poll.svg\n",
            "https://www.iplt20.com/assets/images/new-search-icon.svg\n",
            "https://bcciplayerimages.s3.ap-south-1.amazonaws.com/ipl/CSK/logos/Logooutline/CSKoutline.png\n",
            "https://bcciplayerimages.s3.ap-south-1.amazonaws.com/ipl/DC/Logos/LogoOutline/DCoutline.png\n",
            "https://bcciplayerimages.s3.ap-south-1.amazonaws.com/ipl/GT/Logos/Logooutline/GToutline.png\n",
            "https://bcciplayerimages.s3.ap-south-1.amazonaws.com/ipl/KKR/Logos/Logooutline/KKRoutline.png\n",
            "https://bcciplayerimages.s3.ap-south-1.amazonaws.com/ipl/LSG/Logos/Logooutline/LSGoutline.png\n",
            "https://bcciplayerimages.s3.ap-south-1.amazonaws.com/ipl/MI/Logos/Logooutline/MIoutline.png\n",
            "https://bcciplayerimages.s3.ap-south-1.amazonaws.com/ipl/PBKS/Logos/Logooutline/PBKSoutline.png\n",
            "https://bcciplayerimages.s3.ap-south-1.amazonaws.com/ipl/RR/Logos/Logooutline/RRoutline.png\n",
            "https://bcciplayerimages.s3.ap-south-1.amazonaws.com/ipl/RCB/Logos/Logooutline/RCBoutline.png\n",
            "https://bcciplayerimages.s3.ap-south-1.amazonaws.com/ipl/SRH/Logos/Logooutline/SRHoutline.png\n",
            "https://bcciplayerimages.s3.ap-south-1.amazonaws.com/ipl/RCB/Logos/Logooutline/RCBoutline.png\n",
            "https://www.iplt20.com/assets/images/off-link.svg\n",
            "https://www.iplt20.com/assets/images/teams-captain-icon.svg\n",
            "https://www.iplt20.com/assets/images/teams-foreign-player-icon.svg\n",
            "https://www.iplt20.com/assets/images/teams-batsman-icon.svg\n",
            "https://bcciplayerimages.s3.ap-south-1.amazonaws.com/ipl/IPLHeadshot2024/94.png\n",
            "https://www.iplt20.com/assets/images/teams-batsman-icon.svg\n",
            "https://bcciplayerimages.s3.ap-south-1.amazonaws.com/ipl/IPLHeadshot2024/597.png\n",
            "https://www.iplt20.com/assets/images/teams-batsman-icon.svg\n",
            "https://bcciplayerimages.s3.ap-south-1.amazonaws.com/ipl/IPLHeadshot2024/2.png\n",
            "https://www.iplt20.com/assets/images/teams-batsman-icon.svg\n",
            "https://bcciplayerimages.s3.ap-south-1.amazonaws.com/ipl/IPLHeadshot2024/534.png\n",
            "https://www.iplt20.com/assets/images/teams-wicket-keeper-icon.svg\n",
            "https://bcciplayerimages.s3.ap-south-1.amazonaws.com/ipl/IPLHeadshot2024/13.png\n",
            "https://www.iplt20.com/assets/images/teams-batsman-icon.svg\n",
            "https://bcciplayerimages.s3.ap-south-1.amazonaws.com/ipl/IPLHeadshot2024/598.png\n",
            "https://www.iplt20.com/assets/images/teams-foreign-player-icon.svg\n",
            "https://www.iplt20.com/assets/images/teams-batsman-icon.svg\n",
            "https://bcciplayerimages.s3.ap-south-1.amazonaws.com/ipl/IPLHeadshot2024/1941.png\n",
            "https://www.iplt20.com/assets/images/teams-batsman-icon.svg\n",
            "https://bcciplayerimages.s3.ap-south-1.amazonaws.com/ipl/IPLHeadshot2024/3114.png\n",
            "https://www.iplt20.com/assets/images/teams-foreign-player-icon.svg\n",
            "https://www.iplt20.com/assets/images/teams-all-rounder-icon.svg\n",
            "https://bcciplayerimages.s3.ap-south-1.amazonaws.com/ipl/IPLHeadshot2024/28.png\n",
            "https://www.iplt20.com/assets/images/teams-all-rounder-icon.svg\n",
            "https://bcciplayerimages.s3.ap-south-1.amazonaws.com/ipl/IPLHeadshot2024/184.png\n",
            "https://www.iplt20.com/assets/images/teams-all-rounder-icon.svg\n",
            "https://bcciplayerimages.s3.ap-south-1.amazonaws.com/ipl/IPLHeadshot2024/98.png\n",
            "https://www.iplt20.com/assets/images/teams-foreign-player-icon.svg\n",
            "https://www.iplt20.com/assets/images/teams-all-rounder-icon.svg\n",
            "https://bcciplayerimages.s3.ap-south-1.amazonaws.com/ipl/IPLHeadshot2024/550.png\n",
            "https://www.iplt20.com/assets/images/teams-all-rounder-icon.svg\n",
            "https://bcciplayerimages.s3.ap-south-1.amazonaws.com/ipl/IPLHeadshot2024/1483.png\n",
            "https://www.iplt20.com/assets/images/teams-all-rounder-icon.svg\n",
            "https://bcciplayerimages.s3.ap-south-1.amazonaws.com/ipl/IPLHeadshot2024/1547.png\n",
            "https://www.iplt20.com/assets/images/teams-all-rounder-icon.svg\n",
            "https://bcciplayerimages.s3.ap-south-1.amazonaws.com/ipl/IPLHeadshot2024/1485.png\n",
            "https://www.iplt20.com/assets/images/teams-bowler-icon.svg\n",
            "https://bcciplayerimages.s3.ap-south-1.amazonaws.com/ipl/IPLHeadshot2024/1007.png\n",
            "https://www.iplt20.com/assets/images/teams-foreign-player-icon.svg\n",
            "https://www.iplt20.com/assets/images/teams-bowler-icon.svg\n",
            "https://bcciplayerimages.s3.ap-south-1.amazonaws.com/ipl/IPLHeadshot2024/229.png\n",
            "https://www.iplt20.com/assets/images/teams-foreign-player-icon.svg\n",
            "https://www.iplt20.com/assets/images/teams-bowler-icon.svg\n",
            "https://bcciplayerimages.s3.ap-south-1.amazonaws.com/ipl/IPLHeadshot2024/69.png\n",
            "https://www.iplt20.com/assets/images/teams-bowler-icon.svg\n",
            "https://bcciplayerimages.s3.ap-south-1.amazonaws.com/ipl/IPLHeadshot2024/63.png\n",
            "https://www.iplt20.com/assets/images/teams-bowler-icon.svg\n",
            "https://bcciplayerimages.s3.ap-south-1.amazonaws.com/ipl/IPLHeadshot2024/978.png\n",
            "https://www.iplt20.com/assets/images/teams-foreign-player-icon.svg\n",
            "https://www.iplt20.com/assets/images/teams-bowler-icon.svg\n",
            "https://bcciplayerimages.s3.ap-south-1.amazonaws.com/ipl/IPLHeadshot2024/309.png\n",
            "https://www.iplt20.com/assets/images/teams-foreign-player-icon.svg\n",
            "https://www.iplt20.com/assets/images/teams-bowler-icon.svg\n",
            "https://bcciplayerimages.s3.ap-south-1.amazonaws.com/ipl/IPLHeadshot2024/574.png\n",
            "https://www.iplt20.com/assets/images/teams-bowler-icon.svg\n",
            "https://bcciplayerimages.s3.ap-south-1.amazonaws.com/ipl/IPLHeadshot2024/1568.png\n",
            "https://www.iplt20.com/assets/images/teams-bowler-icon.svg\n",
            "https://bcciplayerimages.s3.ap-south-1.amazonaws.com/ipl/IPLHeadshot2024/2034.png\n",
            "https://www.iplt20.com/assets/images/teams-bowler-icon.svg\n",
            "https://bcciplayerimages.s3.ap-south-1.amazonaws.com/ipl/IPLHeadshot2024/1503.png\n",
            "https://bcciplayerimages.s3.ap-south-1.amazonaws.com/bcci/live_blog/1644520414_tata-logo.png\n",
            "https://bcciplayerimages.s3.ap-south-1.amazonaws.com/bcci/live_blog/1680104749_StarSports_Logo-Tagline%203.png\n",
            "https://bcciplayerimages.s3.ap-south-1.amazonaws.com/bcci/live_blog/1671017722_Jio%20CinemaAsset%202%201.png\n",
            "https://bcciplayerimages.s3.ap-south-1.amazonaws.com/bcci/live_blog/1646835698_dream11.png\n",
            "https://bcciplayerimages.s3.ap-south-1.amazonaws.com/bcci/live_blog/1678119494_Cred.png\n",
            "https://bcciplayerimages.s3.ap-south-1.amazonaws.com/bcci/live_blog/1678119570_Upstox.png\n",
            "https://bcciplayerimages.s3.ap-south-1.amazonaws.com/bcci/live_blog/1679731178_Rupay.png\n",
            "https://bcciplayerimages.s3.ap-south-1.amazonaws.com/bcci/live_blog/1679731219_saudi-new-logo.png\n",
            "https://bcciplayerimages.s3.ap-south-1.amazonaws.com/bcci/live_blog/1680102806_herballife.png\n",
            "https://bcciplayerimages.s3.ap-south-1.amazonaws.com/bcci/logo/1647964934_aramco.png\n",
            "https://bcciplayerimages.s3.ap-south-1.amazonaws.com/bcci/live_blog/1633588474_sponsor-paytm.webp\n",
            "https://bcciplayerimages.s3.ap-south-1.amazonaws.com/bcci/live_blog/1633588547_sponsor-ceat.webp\n",
            "https://bcciplayerimages.s3.ap-south-1.amazonaws.com/bcci/live_blog/1680104749_StarSports_Logo-Tagline%203.png\n",
            "https://bcciplayerimages.s3.ap-south-1.amazonaws.com/bcci/live_blog/1671017722_Jio%20CinemaAsset%202%201.png\n",
            "https://bcciplayerimages.s3.ap-south-1.amazonaws.com/bcci/live_blog/1633588474_sponsor-paytm.webp\n",
            "https://bcciplayerimages.s3.ap-south-1.amazonaws.com/bcci/logo/1647964934_aramco.png\n",
            "https://bcciplayerimages.s3.ap-south-1.amazonaws.com/bcci/live_blog/1633588547_sponsor-ceat.webp\n",
            "https://www.iplt20.com/assets/images/new-sponsor-tata-logo.svg\n",
            "https://www.iplt20.com/assets/images/new-sponsor-my11circle-logo.svg\n",
            "https://www.iplt20.com/assets/images/new-sponsor-angelone-logo.svg\n",
            "https://www.iplt20.com/assets/images/new-sponsor-rupay-logo.svg\n",
            "https://www.iplt20.com/assets/images/new-sponsor-start-sports-logo.svg\n",
            "https://www.iplt20.com/assets/images/new-sponsor-ceat-logo.svg\n",
            "https://www.iplt20.com/assets/images/new-sponsor-jio-cenema-logo.svg\n"
          ]
        }
      ]
    },
    {
      "cell_type": "code",
      "source": [],
      "metadata": {
        "id": "cHNUjqeWILSg"
      },
      "execution_count": null,
      "outputs": []
    },
    {
      "cell_type": "code",
      "source": [],
      "metadata": {
        "id": "yC_bZ3WXXHWF"
      },
      "execution_count": null,
      "outputs": []
    },
    {
      "cell_type": "code",
      "execution_count": null,
      "metadata": {
        "id": "miGMF3qzIcGK"
      },
      "outputs": [],
      "source": [
        "\n"
      ]
    },
    {
      "cell_type": "code",
      "source": [],
      "metadata": {
        "id": "_-PQ8HWOQBKG"
      },
      "execution_count": null,
      "outputs": []
    },
    {
      "cell_type": "code",
      "source": [],
      "metadata": {
        "id": "5oaAqTHCQR79"
      },
      "execution_count": null,
      "outputs": []
    },
    {
      "cell_type": "code",
      "source": [],
      "metadata": {
        "id": "UfLm0w9MMlWm"
      },
      "execution_count": null,
      "outputs": []
    },
    {
      "cell_type": "markdown",
      "source": [],
      "metadata": {
        "id": "6WnGsDUxG1qA"
      }
    },
    {
      "cell_type": "code",
      "source": [
        "\n"
      ],
      "metadata": {
        "id": "QZ2S2b39Mr7k"
      },
      "execution_count": null,
      "outputs": []
    },
    {
      "cell_type": "code",
      "source": [],
      "metadata": {
        "id": "m53kPUcsOaH1"
      },
      "execution_count": null,
      "outputs": []
    },
    {
      "cell_type": "code",
      "source": [],
      "metadata": {
        "id": "TjQluKRYOfsF"
      },
      "execution_count": null,
      "outputs": []
    },
    {
      "cell_type": "code",
      "source": [],
      "metadata": {
        "id": "gthWcs5sMyaF"
      },
      "execution_count": null,
      "outputs": []
    },
    {
      "cell_type": "code",
      "source": [
        "\n"
      ],
      "metadata": {
        "id": "idJOEe1wOLlq"
      },
      "execution_count": null,
      "outputs": []
    },
    {
      "cell_type": "code",
      "source": [],
      "metadata": {
        "id": "Fkbmoe-6WiAu"
      },
      "execution_count": null,
      "outputs": []
    }
  ],
  "metadata": {
    "colab": {
      "provenance": [],
      "mount_file_id": "1ItPHH_eFn1EZwn7qFRtE50wImelIxDrp",
      "authorship_tag": "ABX9TyOAk/plIBLLrSX0TifJuV2y",
      "include_colab_link": true
    },
    "kernelspec": {
      "display_name": "Python 3",
      "name": "python3"
    },
    "language_info": {
      "name": "python"
    }
  },
  "nbformat": 4,
  "nbformat_minor": 0
}